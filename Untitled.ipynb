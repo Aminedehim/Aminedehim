{
 "cells": [
  {
   "cell_type": "code",
   "execution_count": null,
   "id": "fad6ae1b",
   "metadata": {},
   "outputs": [],
   "source": [
    "password = \"44140e\"\n",
    "f=input(\"enter password\")\n",
    "\n",
    "while f != \"44140e\":\n",
    "   f= input(\"enter password\")\n",
    "\n",
    "\n",
    "      \n",
    "print(\"welcome\")\n"
   ]
  },
  {
   "cell_type": "code",
   "execution_count": null,
   "id": "8a06de99",
   "metadata": {},
   "outputs": [],
   "source": []
  }
 ],
 "metadata": {
  "kernelspec": {
   "display_name": "Python 3 (ipykernel)",
   "language": "python",
   "name": "python3"
  },
  "language_info": {
   "codemirror_mode": {
    "name": "ipython",
    "version": 3
   },
   "file_extension": ".py",
   "mimetype": "text/x-python",
   "name": "python",
   "nbconvert_exporter": "python",
   "pygments_lexer": "ipython3",
   "version": "3.9.12"
  }
 },
 "nbformat": 4,
 "nbformat_minor": 5
}
