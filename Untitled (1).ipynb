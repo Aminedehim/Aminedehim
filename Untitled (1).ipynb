{
 "cells": [
  {
   "cell_type": "code",
   "execution_count": 1,
   "id": "b8257fa4",
   "metadata": {},
   "outputs": [
    {
     "name": "stdout",
     "output_type": "stream",
     "text": [
      "6\n",
      "5\n",
      "3\n",
      "8\n",
      "4\n",
      "2\n",
      "5\n",
      "4\n",
      "11\n",
      "the for ends here\n"
     ]
    }
   ],
   "source": [
    "numbers = [6, 5, 3, 8, 4, 2, 5, 4, 11]\n",
    "for val in numbers: # iterate over the list\n",
    "\tprint(val)\n",
    "print(\"the for ends here\")"
   ]
  },
  {
   "cell_type": "code",
   "execution_count": 3,
   "id": "bd8bf67c",
   "metadata": {},
   "outputs": [
    {
     "ename": "SyntaxError",
     "evalue": "invalid syntax (265202629.py, line 2)",
     "output_type": "error",
     "traceback": [
      "\u001b[1;36m  Input \u001b[1;32mIn [3]\u001b[1;36m\u001b[0m\n\u001b[1;33m    if val = 4\u001b[0m\n\u001b[1;37m           ^\u001b[0m\n\u001b[1;31mSyntaxError\u001b[0m\u001b[1;31m:\u001b[0m invalid syntax\n"
     ]
    }
   ],
   "source": [
    "numbers = [6, 5, 3, 8, 4, 2, 5, 4, 11]\n",
    "if val = 4\n",
    "\tprint(val)\n",
    "print(\"the for ends here\")"
   ]
  },
  {
   "cell_type": "code",
   "execution_count": 5,
   "id": "0177356f",
   "metadata": {},
   "outputs": [
    {
     "name": "stdout",
     "output_type": "stream",
     "text": [
      "The sum is 10\n"
     ]
    }
   ],
   "source": [
    "sum = 0 \n",
    "i = 1 # initialize sum and counter\n",
    "\n",
    "while i <= 4:\n",
    "    sum = sum + i\n",
    "    i = i+1    # update counter\n",
    "\n",
    "print(\"The sum is\", sum) # print the sum"
   ]
  },
  {
   "cell_type": "code",
   "execution_count": 20,
   "id": "431d363c",
   "metadata": {},
   "outputs": [
    {
     "name": "stdout",
     "output_type": "stream",
     "text": [
      "enter passworda\n",
      "enter passwordaezaez\n",
      "enter passwordzeze\n",
      "enter passwordz\n",
      "enter passworde\n",
      "enter passwordzez\n",
      "enter passwordeze\n",
      "enter passwordze\n",
      "enter passwordze\n",
      "enter password44140e\n",
      "welcome\n"
     ]
    }
   ],
   "source": [
    "password = \"44140e\"\n",
    "f=input(\"enter password\")\n",
    "\n",
    "while f != \"44140e\":\n",
    "   f= input(\"enter password\")\n",
    "\n",
    "\n",
    "      \n",
    "print(\"welcome\")\n"
   ]
  },
  {
   "cell_type": "code",
   "execution_count": 27,
   "id": "54778ac1",
   "metadata": {},
   "outputs": [
    {
     "name": "stdout",
     "output_type": "stream",
     "text": [
      "615\n"
     ]
    }
   ],
   "source": [
    "n= input(\"Enter an intiger : \")\n",
    "n2= (n+n)\n",
    "n3= (n+n+n)\n",
    "print(int(n)+int(n2)+int(n3))"
   ]
  },
  {
   "cell_type": "code",
   "execution_count": 38,
   "id": "524e7131",
   "metadata": {},
   "outputs": [
    {
     "name": "stdout",
     "output_type": "stream",
     "text": [
      "Enter a number: 7\n",
      "This is an odd number.\n"
     ]
    }
   ],
   "source": [
    "num = int(input(\"Enter a number: \"))\n",
    "n = num % 2\n",
    "if n == 0:\n",
    "    print(\"This is an even number.\")\n",
    "else:\n",
    "    print(\"This is an odd number.\")"
   ]
  },
  {
   "cell_type": "code",
   "execution_count": 46,
   "id": "3c310fda",
   "metadata": {},
   "outputs": [
    {
     "name": "stdout",
     "output_type": "stream",
     "text": [
      "2002/2009/2016/2023/2037/2044/2051/2058/2072/2079/2086/2093/2107/2114/2121/2128/2142/2149/2156/2163/2177/2184/2191/2198/2212/2219/2226/2233/2247/2254/2261/2268/2282/2289/2296/2303/2317/2324/2331/2338/2352/2359/2366/2373/2387/2394/2401/2408/2422/2429/2436/2443/2457/2464/2471/2478/2492/2499/2506/2513/2527/2534/2541/2548/2562/2569/2576/2583/2597/2604/2611/2618/2632/2639/2646/2653/2667/2674/2681/2688/2702/2709/2716/2723/2737/2744/2751/2758/2772/2779/2786/2793/2807/2814/2821/2828/2842/2849/2856/2863/2877/2884/2891/2898/2912/2919/2926/2933/2947/2954/2961/2968/2982/2989/2996/3003/3017/3024/3031/3038/3052/3059/3066/3073/3087/3094/3101/3108/3122/3129/3136/3143/3157/3164/3171/3178/3192/3199/\b.\n"
     ]
    }
   ],
   "source": [
    "for n in range(2000,3201):\n",
    "    if (n%7 == 0) and (n%5!=0) :\n",
    "        print(n,end='/')\n",
    "        \n",
    "print(\"\\b.\")              "
   ]
  },
  {
   "cell_type": "code",
   "execution_count": 51,
   "id": "e483a83a",
   "metadata": {},
   "outputs": [
    {
     "name": "stdout",
     "output_type": "stream",
     "text": [
      "Enter a number : 8\n",
      "the factorial is : 40320\n"
     ]
    }
   ],
   "source": [
    "n = int(input(\"Enter a number : \")) \n",
    "fact = 1\n",
    "i = 1\n",
    "while i <= n:\n",
    "    fact = fact * i;\n",
    "    i = i + 1\n",
    "print('the factorial is :',fact)"
   ]
  },
  {
   "cell_type": "code",
   "execution_count": 58,
   "id": "a10d3913",
   "metadata": {},
   "outputs": [
    {
     "name": "stdout",
     "output_type": "stream",
     "text": [
      "['one', 'two', 'three', 'four', 'five', 'six', 'seven']\n"
     ]
    }
   ],
   "source": [
    "my_list=[\"one\",\"two\",\"three\",\"four\",\"five\",\"six\"]\n",
    "my_list.append(\"seven\")\n",
    "print(my_list)\n"
   ]
  },
  {
   "cell_type": "code",
   "execution_count": 65,
   "id": "f5346c57",
   "metadata": {},
   "outputs": [
    {
     "data": {
      "text/plain": [
       "['one', 'two', 'three', 'eight', 'four', 'five', 'six']"
      ]
     },
     "execution_count": 65,
     "metadata": {},
     "output_type": "execute_result"
    }
   ],
   "source": [
    "my_list=[\"one\",\"two\",\"three\",\"four\",\"five\",\"six\"]\n",
    "my_list.insert(3, \"eight\")\n",
    "my_list"
   ]
  },
  {
   "cell_type": "code",
   "execution_count": 70,
   "id": "5b35d661",
   "metadata": {},
   "outputs": [
    {
     "name": "stdout",
     "output_type": "stream",
     "text": [
      "['one', 'two', 'hola', 'four', 'five', 'six']\n"
     ]
    }
   ],
   "source": [
    "my_list=[\"one\",\"two\",\"three\",\"four\",\"five\",\"six\"]\n",
    "my_list[2]=\"hola\"\n",
    "print(my_list)"
   ]
  },
  {
   "cell_type": "code",
   "execution_count": 9,
   "id": "c8279d21",
   "metadata": {},
   "outputs": [
    {
     "name": "stdout",
     "output_type": "stream",
     "text": [
      "knowledge\n",
      "tool\n",
      "year\n",
      "math\n",
      "python\n",
      "2022\n",
      "('knowledge', 'math')\n",
      "('tool', 'python')\n",
      "('year', 2022)\n",
      "3\n"
     ]
    }
   ],
   "source": [
    "my_dictionary= {\"knowledge\":\"math\",\"tool\": \"python\",\"year\": 2022}\n",
    "for key in my_dictionary.keys():\n",
    "    print(key)\n",
    "for value in my_dictionary.values():\n",
    "    print(value)\n",
    "for item in my_dictionary.items():\n",
    "    print(item)\n",
    "print(len(my_dictionary))"
   ]
  },
  {
   "cell_type": "code",
   "execution_count": 12,
   "id": "f8405682",
   "metadata": {},
   "outputs": [
    {
     "name": "stdout",
     "output_type": "stream",
     "text": [
      "{'knowledge': 'math', 'tool': 'python', 'date': '13aout2022', 'learn': False}\n"
     ]
    }
   ],
   "source": [
    "my_dictionary= {\"knowledge\": \"math\",\"tool\": \"python\", \"date\": \"13aout2022\"}\n",
    "my_dictionary[\"learn\"]= False\n",
    "print(my_dictionary)"
   ]
  },
  {
   "cell_type": "code",
   "execution_count": 15,
   "id": "3821c1da",
   "metadata": {},
   "outputs": [
    {
     "name": "stdout",
     "output_type": "stream",
     "text": [
      "{'knowledge': 'math', 'tool': 'python', 'learn': False}\n"
     ]
    }
   ],
   "source": [
    "my_dictionary.pop(\"date\")\n",
    "print(my_dictionary)"
   ]
  },
  {
   "cell_type": "code",
   "execution_count": 18,
   "id": "20f9152e",
   "metadata": {},
   "outputs": [],
   "source": [
    "del my_dictionary"
   ]
  },
  {
   "cell_type": "code",
   "execution_count": 20,
   "id": "3db00611",
   "metadata": {},
   "outputs": [
    {
     "name": "stdout",
     "output_type": "stream",
     "text": [
      "{'java', 'html', 'python', 'c++'}\n"
     ]
    }
   ],
   "source": [
    "my_set= {\"python\",\"c++\",\"html\"}\n",
    "my_set.add(\"java\")\n",
    "print(my_set)"
   ]
  },
  {
   "cell_type": "code",
   "execution_count": 21,
   "id": "cc483a84",
   "metadata": {},
   "outputs": [
    {
     "name": "stdout",
     "output_type": "stream",
     "text": [
      "{'java', 'python', 'c++'}\n"
     ]
    }
   ],
   "source": [
    "my_set.remove(\"html\")\n",
    "print(my_set)"
   ]
  },
  {
   "cell_type": "code",
   "execution_count": 22,
   "id": "ef6b3b90",
   "metadata": {},
   "outputs": [],
   "source": [
    "del my_set"
   ]
  },
  {
   "cell_type": "code",
   "execution_count": 24,
   "id": "bc926474",
   "metadata": {},
   "outputs": [
    {
     "name": "stdout",
     "output_type": "stream",
     "text": [
      "c++\n"
     ]
    }
   ],
   "source": [
    "my_tuple=(\"python\",\"java\",\"c++\")\n",
    "print(my_tuble[2])"
   ]
  },
  {
   "cell_type": "code",
   "execution_count": 25,
   "id": "2d01ee86",
   "metadata": {},
   "outputs": [
    {
     "name": "stdout",
     "output_type": "stream",
     "text": [
      "('a', 'b', 'c', 'd', '1', 'f', '4', 'sigma', 'beta', 'gamma')\n"
     ]
    }
   ],
   "source": [
    "tuple1 = (\"a\",\"b\",\"c\",\"d\")\n",
    "tuple2 = (\"1\",\"f\",\"4\")\n",
    "tuple3 = (\"sigma\",\"beta\",\"gamma\")\n",
    "tuple4=tuple1 + tuple2 + tuple3\n",
    "print(tuple4)\n",
    "\n"
   ]
  },
  {
   "cell_type": "code",
   "execution_count": 27,
   "id": "34965ab0",
   "metadata": {},
   "outputs": [
    {
     "name": "stdout",
     "output_type": "stream",
     "text": [
      "enter your list:2,3,6\n",
      "result : 36\n"
     ]
    }
   ],
   "source": [
    "n=input(\"enter your list:\")\n",
    "my_list=n.split(\",\")\n",
    "x=1\n",
    "for numb in my_list :\n",
    "    x=x*int(numb)\n",
    "print(\"result :\",x)"
   ]
  },
  {
   "cell_type": "code",
   "execution_count": 29,
   "id": "8fa88660",
   "metadata": {},
   "outputs": [
    {
     "name": "stdout",
     "output_type": "stream",
     "text": [
      "[(1, 2), (2, 1), (2, 3), (2, 5), (4, 4)]\n"
     ]
    }
   ],
   "source": [
    "a=[(2, 5), (1, 2), (4, 4), (2, 3), (2, 1)]\n",
    "print(sorted(a))"
   ]
  },
  {
   "cell_type": "code",
   "execution_count": 49,
   "id": "12e88b30",
   "metadata": {},
   "outputs": [
    {
     "ename": "IndentationError",
     "evalue": "expected an indented block (3733918586.py, line 10)",
     "output_type": "error",
     "traceback": [
      "\u001b[1;36m  Input \u001b[1;32mIn [49]\u001b[1;36m\u001b[0m\n\u001b[1;33m    dict(d4)=d1[i]\u001b[0m\n\u001b[1;37m    ^\u001b[0m\n\u001b[1;31mIndentationError\u001b[0m\u001b[1;31m:\u001b[0m expected an indented block\n"
     ]
    }
   ],
   "source": [
    "d1 = {'a': 100, 'b': 200, 'c':300}\n",
    "d2 = {'a': 300, 'b': 200, 'd':400}\n",
    "d3 = {}\n",
    "d3.update(d2)\n",
    "for i in d1:\n",
    "    if i in d2:\n",
    "        d3[i]=d1[i]+d2[i]    \n",
    "\n",
    "        if i not in d2:\n",
    "        dict(d4)=d1[i]\n",
    "\n",
    "print(d3)\n",
    "    \n",
    "    \n"
   ]
  },
  {
   "cell_type": "code",
   "execution_count": 40,
   "id": "66f8eea5",
   "metadata": {},
   "outputs": [
    {
     "name": "stdout",
     "output_type": "stream",
     "text": [
      "enter a number:8\n",
      "{1: 1, 2: 4, 3: 9, 4: 16, 5: 25, 6: 36, 7: 49, 8: 64}\n"
     ]
    }
   ],
   "source": [
    "num=int(input(\"enter a number:\"))\n",
    "dictionary={}\n",
    "for n in range (1,num+1):\n",
    "    dictionary[n]=n*n\n",
    "print(dictionary)"
   ]
  },
  {
   "cell_type": "code",
   "execution_count": 52,
   "id": "bb8fe8fe",
   "metadata": {},
   "outputs": [
    {
     "name": "stdout",
     "output_type": "stream",
     "text": [
      "{'a': 400, 'b': 400, 'd': 400, 'c': 300}\n"
     ]
    }
   ],
   "source": [
    "d1 = {'a': 100, 'b': 200, 'c':300}\n",
    "d2 = {'a': 300, 'b': 200, 'd':400}\n",
    "d3 = {}\n",
    "for i in d2 :\n",
    "    if i in d1 :\n",
    "        d3[i]=d1[i]+d2[i]\n",
    "    if i not in d1:\n",
    "        d3[i]=d2[i]\n",
    "\n",
    "            \n",
    "for i in d1:\n",
    "    if i not in d2:\n",
    "        d3[i]=d1[i]\n",
    "print (d3)       "
   ]
  },
  {
   "cell_type": "code",
   "execution_count": 53,
   "id": "ce98382d",
   "metadata": {},
   "outputs": [
    {
     "name": "stdout",
     "output_type": "stream",
     "text": [
      "[('item3', '24.5'), ('item2', '15.10'), ('item1', '12.20')]\n"
     ]
    }
   ],
   "source": [
    "n=[('item1', '12.20'), ('item2', '15.10'), ('item3', '24.5')]\n",
    "\n",
    "n.sort(reverse=True)\n",
    "print(n)"
   ]
  },
  {
   "cell_type": "code",
   "execution_count": null,
   "id": "481390dd",
   "metadata": {},
   "outputs": [],
   "source": []
  }
 ],
 "metadata": {
  "kernelspec": {
   "display_name": "Python 3 (ipykernel)",
   "language": "python",
   "name": "python3"
  },
  "language_info": {
   "codemirror_mode": {
    "name": "ipython",
    "version": 3
   },
   "file_extension": ".py",
   "mimetype": "text/x-python",
   "name": "python",
   "nbconvert_exporter": "python",
   "pygments_lexer": "ipython3",
   "version": "3.9.12"
  }
 },
 "nbformat": 4,
 "nbformat_minor": 5
}
